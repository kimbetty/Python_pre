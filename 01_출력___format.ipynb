{
  "nbformat": 4,
  "nbformat_minor": 0,
  "metadata": {
    "colab": {
      "name": "01_출력_%_format.ipynb",
      "provenance": [],
      "authorship_tag": "ABX9TyMXIEIrOEYfK5X4qoC+Wig0",
      "include_colab_link": true
    },
    "kernelspec": {
      "name": "python3",
      "display_name": "Python 3"
    }
  },
  "cells": [
    {
      "cell_type": "markdown",
      "metadata": {
        "id": "view-in-github",
        "colab_type": "text"
      },
      "source": [
        "<a href=\"https://colab.research.google.com/github/kimbetty/Python_pre/blob/dream/01_%EC%B6%9C%EB%A0%A5___format.ipynb\" target=\"_parent\"><img src=\"https://colab.research.google.com/assets/colab-badge.svg\" alt=\"Open In Colab\"/></a>"
      ]
    },
    {
      "cell_type": "markdown",
      "metadata": {
        "id": "1TEx22ZJRJPS",
        "colab_type": "text"
      },
      "source": [
        "# 1. Format\n"
      ]
    },
    {
      "cell_type": "code",
      "metadata": {
        "id": "tJj8nUvBRNoU",
        "colab_type": "code",
        "colab": {
          "base_uri": "https://localhost:8080/",
          "height": 34
        },
        "outputId": "909813ba-3d91-4624-f165-b5c3d9a0bb85"
      },
      "source": [
        "s='A is {}'\n",
        "s.format('apple')"
      ],
      "execution_count": 3,
      "outputs": [
        {
          "output_type": "execute_result",
          "data": {
            "text/plain": [
              "'A is apple'"
            ]
          },
          "metadata": {
            "tags": []
          },
          "execution_count": 3
        }
      ]
    },
    {
      "cell_type": "code",
      "metadata": {
        "id": "28NBmV_CRWGQ",
        "colab_type": "code",
        "colab": {
          "base_uri": "https://localhost:8080/",
          "height": 34
        },
        "outputId": "1650a07a-0d6b-48ba-a71f-024f37170f35"
      },
      "source": [
        "info_1 ='학교: {}, 학번:{}, 이름:{}'\n",
        "p=info_1.format('인천고','20101', '차은우' )\n",
        "print(p)"
      ],
      "execution_count": 6,
      "outputs": [
        {
          "output_type": "stream",
          "text": [
            "학교: 인천고, 학번:20101, 이름:차은우\n"
          ],
          "name": "stdout"
        }
      ]
    },
    {
      "cell_type": "code",
      "metadata": {
        "id": "l1H6lXsWRtU7",
        "colab_type": "code",
        "colab": {
          "base_uri": "https://localhost:8080/",
          "height": 34
        },
        "outputId": "ec885bc1-b08d-49e0-92fe-463440a92515"
      },
      "source": [
        "info_2 ='학교: %s, 학번:%d, 이름:%s, 평균:%2.2f'\n",
        "a=info_2%('인천고',20101, '차은우', 90.1 )\n",
        "print(a)"
      ],
      "execution_count": 12,
      "outputs": [
        {
          "output_type": "stream",
          "text": [
            "학교: 인천고, 학번:20101, 이름:차은우, 평균:90.10\n"
          ],
          "name": "stdout"
        }
      ]
    },
    {
      "cell_type": "code",
      "metadata": {
        "id": "iSxB7LqsSjqU",
        "colab_type": "code",
        "colab": {
          "base_uri": "https://localhost:8080/",
          "height": 34
        },
        "outputId": "a9b4e639-93cf-4982-9e13-dddd0db8f9a2"
      },
      "source": [
        "a = '%s %d 개 가격은 %.2f 달라'\n",
        "b = a %('햄버거', 2, 4.0*2)\n",
        "print(b) "
      ],
      "execution_count": 14,
      "outputs": [
        {
          "output_type": "stream",
          "text": [
            "햄버거 2 개 가격은 8.00 달라\n"
          ],
          "name": "stdout"
        }
      ]
    }
  ]
}