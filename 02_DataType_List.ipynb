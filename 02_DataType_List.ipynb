{
  "nbformat": 4,
  "nbformat_minor": 0,
  "metadata": {
    "colab": {
      "name": "02_DataType_List.ipynb",
      "provenance": [],
      "collapsed_sections": [],
      "authorship_tag": "ABX9TyOFMgesizMo/iFNh/7beH1R",
      "include_colab_link": true
    },
    "kernelspec": {
      "name": "python3",
      "display_name": "Python 3"
    }
  },
  "cells": [
    {
      "cell_type": "markdown",
      "metadata": {
        "id": "view-in-github",
        "colab_type": "text"
      },
      "source": [
        "<a href=\"https://colab.research.google.com/github/kimbetty/Python_pre/blob/dream/02_DataType_List.ipynb\" target=\"_parent\"><img src=\"https://colab.research.google.com/assets/colab-badge.svg\" alt=\"Open In Colab\"/></a>"
      ]
    },
    {
      "cell_type": "markdown",
      "metadata": {
        "id": "1F2JEyWO4SNc",
        "colab_type": "text"
      },
      "source": [
        "**[학습목표]**\n",
        "---\n",
        "1. data type : tuple, dictionary 이해\n",
        "2. 연산자와 변수의 사용\n",
        "---\n",
        "\n"
      ]
    },
    {
      "cell_type": "markdown",
      "metadata": {
        "id": "wz0a1QnkOJDq",
        "colab_type": "text"
      },
      "source": [
        "# 1.연산"
      ]
    },
    {
      "cell_type": "markdown",
      "metadata": {
        "id": "whHyBiYdN8e6",
        "colab_type": "text"
      },
      "source": [
        "1.1 문자열의 연산"
      ]
    },
    {
      "cell_type": "code",
      "metadata": {
        "id": "G0Zp6wIz461o",
        "colab_type": "code",
        "outputId": "68353ca2-b865-46fc-b92f-9f280be6bc41",
        "colab": {
          "base_uri": "https://localhost:8080/",
          "height": 34
        }
      },
      "source": [
        " name = '호정'\n",
        " print(name+'안녕')"
      ],
      "execution_count": 7,
      "outputs": [
        {
          "output_type": "stream",
          "text": [
            "호정안녕\n"
          ],
          "name": "stdout"
        }
      ]
    },
    {
      "cell_type": "code",
      "metadata": {
        "id": "EI8FsSlaOL1K",
        "colab_type": "code",
        "colab": {
          "base_uri": "https://localhost:8080/",
          "height": 186
        },
        "outputId": "d2c8c2ed-fdd9-470e-98dc-f63662f6ffe7"
      },
      "source": [
        "num = 2000\n",
        "print(num+'원')# 오류 발생"
      ],
      "execution_count": 8,
      "outputs": [
        {
          "output_type": "error",
          "ename": "TypeError",
          "evalue": "ignored",
          "traceback": [
            "\u001b[0;31m---------------------------------------------------------------------------\u001b[0m",
            "\u001b[0;31mTypeError\u001b[0m                                 Traceback (most recent call last)",
            "\u001b[0;32m<ipython-input-8-f42f15006810>\u001b[0m in \u001b[0;36m<module>\u001b[0;34m()\u001b[0m\n\u001b[1;32m      1\u001b[0m \u001b[0mnum\u001b[0m \u001b[0;34m=\u001b[0m \u001b[0;36m2000\u001b[0m\u001b[0;34m\u001b[0m\u001b[0;34m\u001b[0m\u001b[0m\n\u001b[0;32m----> 2\u001b[0;31m \u001b[0mprint\u001b[0m\u001b[0;34m(\u001b[0m\u001b[0mnum\u001b[0m\u001b[0;34m+\u001b[0m\u001b[0;34m'원'\u001b[0m\u001b[0;34m)\u001b[0m\u001b[0;34m\u001b[0m\u001b[0;34m\u001b[0m\u001b[0m\n\u001b[0m",
            "\u001b[0;31mTypeError\u001b[0m: unsupported operand type(s) for +: 'int' and 'str'"
          ]
        }
      ]
    },
    {
      "cell_type": "markdown",
      "metadata": {
        "id": "r0-D-cajOZcC",
        "colab_type": "text"
      },
      "source": [
        "1.2. 사칙연산"
      ]
    },
    {
      "cell_type": "code",
      "metadata": {
        "id": "vNmDBLoF5XcW",
        "colab_type": "code",
        "outputId": "8f275e6b-e6ba-420a-c451-16f14ab65262",
        "colab": {
          "base_uri": "https://localhost:8080/",
          "height": 87
        }
      },
      "source": [
        "a=2\n",
        "b=3\n",
        "print('a/b =', a/b) # 나누기\n",
        "print('a//b =', a//b) #몫\n",
        "print('a**b =', a**b) #거듭제곱\n",
        "print('a%b =', a%b) # 나머지"
      ],
      "execution_count": 10,
      "outputs": [
        {
          "output_type": "stream",
          "text": [
            "a/b = 0.6666666666666666\n",
            "a//b = 0\n",
            "a**b = 8\n",
            "a%b = 2\n"
          ],
          "name": "stdout"
        }
      ]
    },
    {
      "cell_type": "markdown",
      "metadata": {
        "id": "J8GG10ojPDeb",
        "colab_type": "text"
      },
      "source": [
        "# 2. Data Type"
      ]
    },
    {
      "cell_type": "markdown",
      "metadata": {
        "id": "sEqcn0VyO0Ca",
        "colab_type": "text"
      },
      "source": [
        "2.1.Date Type"
      ]
    },
    {
      "cell_type": "code",
      "metadata": {
        "id": "mDeolLg96DAw",
        "colab_type": "code",
        "outputId": "fced80c7-942f-4fee-a800-9b025bf23724",
        "colab": {
          "base_uri": "https://localhost:8080/",
          "height": 35
        }
      },
      "source": [
        "print(type(a), type(b), type(name))"
      ],
      "execution_count": 0,
      "outputs": [
        {
          "output_type": "stream",
          "text": [
            "<class 'int'> <class 'float'> <class 'str'>\n"
          ],
          "name": "stdout"
        }
      ]
    },
    {
      "cell_type": "code",
      "metadata": {
        "id": "nUz8kxIF6y_2",
        "colab_type": "code",
        "colab": {}
      },
      "source": [
        "a=[1,2,3]  # list\n",
        "b={'햄버거', '치킨'} # set\n",
        "c=1,2,3 # tuple\n",
        "d={1:'학번', 2:'이름', 3:'성적'}"
      ],
      "execution_count": 0,
      "outputs": []
    },
    {
      "cell_type": "code",
      "metadata": {
        "id": "E2-in-NF64gF",
        "colab_type": "code",
        "outputId": "fda2ba5c-b113-4953-81f2-f6a3ffb35453",
        "colab": {
          "base_uri": "https://localhost:8080/",
          "height": 34
        }
      },
      "source": [
        "type(a), type(b), type(c), type(d)"
      ],
      "execution_count": 15,
      "outputs": [
        {
          "output_type": "execute_result",
          "data": {
            "text/plain": [
              "(list, set, tuple, dict)"
            ]
          },
          "metadata": {
            "tags": []
          },
          "execution_count": 15
        }
      ]
    },
    {
      "cell_type": "code",
      "metadata": {
        "id": "B9SbQ9p2PY_L",
        "colab_type": "code",
        "colab": {
          "base_uri": "https://localhost:8080/",
          "height": 34
        },
        "outputId": "716e4d2e-36ad-4dce-ee6a-a1f3905829a8"
      },
      "source": [
        "a[0]='Good'\n",
        "a"
      ],
      "execution_count": 17,
      "outputs": [
        {
          "output_type": "execute_result",
          "data": {
            "text/plain": [
              "['Good', 2, 3]"
            ]
          },
          "metadata": {
            "tags": []
          },
          "execution_count": 17
        }
      ]
    },
    {
      "cell_type": "code",
      "metadata": {
        "id": "g5OVRYhPPiin",
        "colab_type": "code",
        "colab": {
          "base_uri": "https://localhost:8080/",
          "height": 186
        },
        "outputId": "7ab361a5-df0b-44c0-fe73-43570a77eb04"
      },
      "source": [
        "c[0] ='Good'\n",
        "c"
      ],
      "execution_count": 18,
      "outputs": [
        {
          "output_type": "error",
          "ename": "TypeError",
          "evalue": "ignored",
          "traceback": [
            "\u001b[0;31m---------------------------------------------------------------------------\u001b[0m",
            "\u001b[0;31mTypeError\u001b[0m                                 Traceback (most recent call last)",
            "\u001b[0;32m<ipython-input-18-0404a6c833e7>\u001b[0m in \u001b[0;36m<module>\u001b[0;34m()\u001b[0m\n\u001b[0;32m----> 1\u001b[0;31m \u001b[0mc\u001b[0m\u001b[0;34m[\u001b[0m\u001b[0;36m0\u001b[0m\u001b[0;34m]\u001b[0m \u001b[0;34m=\u001b[0m\u001b[0;34m'Good'\u001b[0m\u001b[0;34m\u001b[0m\u001b[0;34m\u001b[0m\u001b[0m\n\u001b[0m\u001b[1;32m      2\u001b[0m \u001b[0mc\u001b[0m\u001b[0;34m\u001b[0m\u001b[0;34m\u001b[0m\u001b[0m\n",
            "\u001b[0;31mTypeError\u001b[0m: 'tuple' object does not support item assignment"
          ]
        }
      ]
    },
    {
      "cell_type": "code",
      "metadata": {
        "id": "IBUnbbXV9AYC",
        "colab_type": "code",
        "outputId": "b9f3b708-91b1-4636-922c-58871efb8a24",
        "colab": {
          "base_uri": "https://localhost:8080/",
          "height": 34
        }
      },
      "source": [
        "a=[2,4,6,8]\n",
        "len(a)\n",
        "# a[-1]"
      ],
      "execution_count": 21,
      "outputs": [
        {
          "output_type": "execute_result",
          "data": {
            "text/plain": [
              "4"
            ]
          },
          "metadata": {
            "tags": []
          },
          "execution_count": 21
        }
      ]
    },
    {
      "cell_type": "code",
      "metadata": {
        "id": "U4CUQdEn8U6s",
        "colab_type": "code",
        "outputId": "87a919b5-604d-45d4-93c3-93ae3e10dd38",
        "colab": {
          "base_uri": "https://localhost:8080/",
          "height": 35
        }
      },
      "source": [
        "a=True\n",
        "b=False\n",
        "a&b, a|b, type(a)"
      ],
      "execution_count": 0,
      "outputs": [
        {
          "output_type": "execute_result",
          "data": {
            "text/plain": [
              "(False, True, bool)"
            ]
          },
          "metadata": {
            "tags": []
          },
          "execution_count": 49
        }
      ]
    },
    {
      "cell_type": "markdown",
      "metadata": {
        "id": "ukFV63QiQHc7",
        "colab_type": "text"
      },
      "source": [
        "3.1.List 연습"
      ]
    },
    {
      "cell_type": "code",
      "metadata": {
        "id": "GibTLUnh746i",
        "colab_type": "code",
        "outputId": "27ae9c6b-b679-4e4e-9772-95872673c769",
        "colab": {
          "base_uri": "https://localhost:8080/",
          "height": 34
        }
      },
      "source": [
        "a[0], a[1:], a[:2]"
      ],
      "execution_count": 3,
      "outputs": [
        {
          "output_type": "execute_result",
          "data": {
            "text/plain": [
              "(1, [2, 3], [1, 2])"
            ]
          },
          "metadata": {
            "tags": []
          },
          "execution_count": 3
        }
      ]
    },
    {
      "cell_type": "code",
      "metadata": {
        "id": "ZQHVdihQ9eRF",
        "colab_type": "code",
        "outputId": "b046a0e5-6716-4fce-c8c1-c9b15a5c0131",
        "colab": {
          "base_uri": "https://localhost:8080/",
          "height": 34
        }
      },
      "source": [
        "b='인천정보산업고등학교'\n",
        "# len(b)\n",
        "# b[:6]\n",
        "b[-4:]"
      ],
      "execution_count": 25,
      "outputs": [
        {
          "output_type": "execute_result",
          "data": {
            "text/plain": [
              "'고등학교'"
            ]
          },
          "metadata": {
            "tags": []
          },
          "execution_count": 25
        }
      ]
    }
  ]
}