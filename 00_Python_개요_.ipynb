{
  "nbformat": 4,
  "nbformat_minor": 0,
  "metadata": {
    "colab": {
      "name": "00_Python 개요_.ipynb",
      "provenance": [],
      "collapsed_sections": [],
      "authorship_tag": "ABX9TyNzVUr7iTFnWrQVDN5Q3wFJ",
      "include_colab_link": true
    },
    "kernelspec": {
      "name": "python3",
      "display_name": "Python 3"
    }
  },
  "cells": [
    {
      "cell_type": "markdown",
      "metadata": {
        "id": "view-in-github",
        "colab_type": "text"
      },
      "source": [
        "<a href=\"https://colab.research.google.com/github/kimbetty/Python_pre/blob/master/00_Python_%EA%B0%9C%EC%9A%94_.ipynb\" target=\"_parent\"><img src=\"https://colab.research.google.com/assets/colab-badge.svg\" alt=\"Open In Colab\"/></a>"
      ]
    },
    {
      "cell_type": "markdown",
      "metadata": {
        "id": "VdZaFomORHby",
        "colab_type": "text"
      },
      "source": [
        "#1.1. Python\n",
        "\n",
        "1. [귀도 반 로섬](https://steemitimages.com/0x0/https://cdn.steemitimages.com/DQmVZBp5QTJqwpv4pwBz7xysxumXNiu8uDnW5pdszQz8QqZ/image.png)\n",
        "2. Python은 원래 파이돈이라는 그리스 신화에 나온 거대한 구렁이\n",
        "3. \"Monty Python's Flying Circus\"라는 BBC 쇼"
      ]
    },
    {
      "cell_type": "markdown",
      "metadata": {
        "id": "YLxEHjgvTntO",
        "colab_type": "text"
      },
      "source": [
        "#1.2. 2020년 3월 프로그래밍 언어 순위(TIOBE Index)\n",
        "\n",
        "1. 해당 프로그래밍 언어를 이용하는 엔지니어의 수 \n",
        "2. 해당 프로그래밍 언어 관련 강좌 및 홈페이지의 수\n",
        "3. Google, Bing, Wekipedia 등에서 프로그래밍 언어가 검색된 횟수\n",
        "4.[TIOBE Index](https://k.kakaocdn.net/dn/JxtaH/btqCuZ4W9IV/bCRmR3NY3qKTEgQKjOVcYK/img.png)\n",
        "\n"
      ]
    },
    {
      "cell_type": "markdown",
      "metadata": {
        "id": "k_2i9G85URqD",
        "colab_type": "text"
      },
      "source": [
        "#1.3. Python 장점\n",
        "\n",
        "1. 배우기 쉽고, 간단, 효과적 \n",
        "2. 표준 라이브러리, 소스, 무료제공, 배포가능\n",
        "3. 객체지향언어"
      ]
    }
  ]
}