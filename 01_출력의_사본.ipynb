{
  "nbformat": 4,
  "nbformat_minor": 0,
  "metadata": {
    "colab": {
      "name": "01_출력의 사본",
      "provenance": [],
      "collapsed_sections": [],
      "authorship_tag": "ABX9TyPXFQRpKEh7r3MGC7D6CQ0m",
      "include_colab_link": true
    },
    "kernelspec": {
      "name": "python3",
      "display_name": "Python 3"
    }
  },
  "cells": [
    {
      "cell_type": "markdown",
      "metadata": {
        "id": "view-in-github",
        "colab_type": "text"
      },
      "source": [
        "<a href=\"https://colab.research.google.com/github/kimbetty/Python_pre/blob/dream/01_%EC%B6%9C%EB%A0%A5%EC%9D%98_%EC%82%AC%EB%B3%B8.ipynb\" target=\"_parent\"><img src=\"https://colab.research.google.com/assets/colab-badge.svg\" alt=\"Open In Colab\"/></a>"
      ]
    },
    {
      "cell_type": "markdown",
      "metadata": {
        "id": "cGdwkDhUz-Qm",
        "colab_type": "text"
      },
      "source": [
        "# **[학습목표]**\n",
        "---\n",
        "1. Python 개발환경을 설정하고 설명할 수 있다.  \n",
        "2. 출력문과 데이터 타입을 설명할 수 있다.\n",
        "\n",
        "---"
      ]
    },
    {
      "cell_type": "markdown",
      "metadata": {
        "id": "1BnzWeBkUfau",
        "colab_type": "text"
      },
      "source": [
        "1.1. 출력"
      ]
    },
    {
      "cell_type": "code",
      "metadata": {
        "id": "u-ojp_7MTVdX",
        "colab_type": "code",
        "outputId": "8073f0ea-cd65-4e2d-a01a-4b07477cb277",
        "colab": {
          "base_uri": "https://localhost:8080/",
          "height": 69
        }
      },
      "source": [
        "a = 1\n",
        "b = 3.5\n",
        "a, b\n",
        "print('a=',a, 'b=', b)\n",
        "print('a는'+'1입니다.')\n",
        "print(a+b)"
      ],
      "execution_count": 35,
      "outputs": [
        {
          "output_type": "stream",
          "text": [
            "a= 1 b= 3.5\n",
            "a는1입니다.\n",
            "4.5\n"
          ],
          "name": "stdout"
        }
      ]
    },
    {
      "cell_type": "markdown",
      "metadata": {
        "id": "sYiSI5FDFpKP",
        "colab_type": "text"
      },
      "source": [
        "**1.1.REPL**\n",
        "\n",
        "Read Eval Loop\n",
        "\n",
        "* 콘솔화면에서 Python구문을 입력하면\n",
        "* 바로 결과를 반환하고\n",
        "* 다시 입력할 수 있는 도구\n",
        "* 즉, print 문을 사용안해도 결과를 알 수 있다.\n",
        "* 단, 마지막 명령어만\n",
        "###### REPL(read-eval-print loop) 또는 인터랙티브 톱레벨(interactive toplevel), 랭기지 셸(language shell)은 단일 사용자의 입력(예: 단일 식)을 취하고 이를 평가(실행)하고 결과를 사용자에게 반환시키는 단순한 상호작용 컴퓨터 프로그래밍 환경이다. REPL 환경으로 작성된 프로그램은 구간마다 실행된다. 이 용어는 보통 클래식 리스프 머신 상호작용 환경과 유사한 프로그래밍 인터페이스를 의미하기도 한다. 일반적인 예로는 프로그래밍 언어를 위한 명령 줄 셸 및 유사 환경을 들 수 있으며 기법은 스크립트 언어의 특징과 매우 닮아있다.[1]"
      ]
    },
    {
      "cell_type": "code",
      "metadata": {
        "id": "sxCLPlavT3id",
        "colab_type": "code",
        "outputId": "cf17ca6d-fa96-4691-8617-520a8646058a",
        "colab": {
          "base_uri": "https://localhost:8080/",
          "height": 87
        }
      },
      "source": [
        "print(a, b)\n",
        "print(3, 4)\n",
        "print(a+b)\n",
        "print('Hello Python\\t' *5)"
      ],
      "execution_count": 38,
      "outputs": [
        {
          "output_type": "stream",
          "text": [
            "1 3.5\n",
            "3 4\n",
            "4.5\n",
            "Hello Python\tHello Python\tHello Python\tHello Python\tHello Python\t\n"
          ],
          "name": "stdout"
        }
      ]
    },
    {
      "cell_type": "markdown",
      "metadata": {
        "id": "ldttJHeUUt2P",
        "colab_type": "text"
      },
      "source": [
        "2.1. 데이터 타입 알아보기"
      ]
    },
    {
      "cell_type": "code",
      "metadata": {
        "id": "JkboWV8AUARn",
        "colab_type": "code",
        "colab": {
          "base_uri": "https://localhost:8080/",
          "height": 34
        },
        "outputId": "90d752a7-e385-4088-f86b-43387394b53b"
      },
      "source": [
        "type(a)\n",
        "type(b)\n",
        "c='인천'\n",
        "type(c)"
      ],
      "execution_count": 41,
      "outputs": [
        {
          "output_type": "execute_result",
          "data": {
            "text/plain": [
              "str"
            ]
          },
          "metadata": {
            "tags": []
          },
          "execution_count": 41
        }
      ]
    },
    {
      "cell_type": "code",
      "metadata": {
        "id": "vSP9rAZ0VKkh",
        "colab_type": "code",
        "colab": {}
      },
      "source": [
        "a ='\\n\\nabcde'\n",
        "b = '전산과 '\n",
        "print(a * 3)\n",
        "print(b * 3)\n",
        "print(a + b)\n",
        "print(a, b)\n",
        "print(type(a))"
      ],
      "execution_count": 0,
      "outputs": []
    },
    {
      "cell_type": "code",
      "metadata": {
        "id": "55aq9poNgsl2",
        "colab_type": "code",
        "outputId": "809ba0b4-7de4-428f-c4a0-e4c0108b6ae7",
        "colab": {
          "base_uri": "https://localhost:8080/",
          "height": 34
        }
      },
      "source": [
        "T= a.endswith('e')\n",
        "T"
      ],
      "execution_count": 49,
      "outputs": [
        {
          "output_type": "execute_result",
          "data": {
            "text/plain": [
              "True"
            ]
          },
          "metadata": {
            "tags": []
          },
          "execution_count": 49
        }
      ]
    },
    {
      "cell_type": "code",
      "metadata": {
        "id": "vDg9_dOCha5W",
        "colab_type": "code",
        "outputId": "563e7be8-8cff-45d3-eaed-5e8138814421",
        "colab": {
          "base_uri": "https://localhost:8080/",
          "height": 35
        }
      },
      "source": [
        "F=a.startswith('\\n')\n",
        "F"
      ],
      "execution_count": 0,
      "outputs": [
        {
          "output_type": "execute_result",
          "data": {
            "text/plain": [
              "True"
            ]
          },
          "metadata": {
            "tags": []
          },
          "execution_count": 7
        }
      ]
    },
    {
      "cell_type": "code",
      "metadata": {
        "id": "y8y8mfLoiDce",
        "colab_type": "code",
        "outputId": "41c3c808-ba95-4f21-e56e-9d6148ea972e",
        "colab": {
          "base_uri": "https://localhost:8080/",
          "height": 123
        }
      },
      "source": [
        "a ='\\n\\nabcde\\n\\n'\n",
        "b=123\n",
        "print(a)\n",
        "print(b)"
      ],
      "execution_count": 0,
      "outputs": [
        {
          "output_type": "stream",
          "text": [
            "\n",
            "\n",
            "abcde\n",
            "\n",
            "\n",
            "123\n"
          ],
          "name": "stdout"
        }
      ]
    },
    {
      "cell_type": "code",
      "metadata": {
        "id": "HQxDgnR4hq-X",
        "colab_type": "code",
        "outputId": "e0291ace-333b-445d-c803-ab720c8b502f",
        "colab": {
          "base_uri": "https://localhost:8080/",
          "height": 34
        }
      },
      "source": [
        "a ='\\n\\nabcde'\n",
        "#print(a)\n",
        "p=a.strip()\n",
        "print(p)"
      ],
      "execution_count": 45,
      "outputs": [
        {
          "output_type": "stream",
          "text": [
            "abcde\n"
          ],
          "name": "stdout"
        }
      ]
    },
    {
      "cell_type": "code",
      "metadata": {
        "id": "-ol_7LTzWjCh",
        "colab_type": "code",
        "colab": {}
      },
      "source": [
        "a = 10\n",
        "b = 2\n",
        "print('a = ', a, ',', ' b =', b)\n",
        "print('a + b = ', a+b)"
      ],
      "execution_count": 0,
      "outputs": []
    },
    {
      "cell_type": "markdown",
      "metadata": {
        "id": "DnHX3tz-VsFW",
        "colab_type": "text"
      },
      "source": [
        "[연습문제] 연산 출력하기\n",
        "\n",
        "---\n",
        "\n",
        "```\n",
        "# 다음과 같이 출력해보세요\n",
        "a = 10 , b = 2\n",
        "a + b = 12.5\n",
        "a - b = ...\n",
        "a * b = \n",
        "a ** b = \n",
        "a / b = \n",
        "a // b = \n",
        "a % b = \n",
        "```"
      ]
    }
  ]
}