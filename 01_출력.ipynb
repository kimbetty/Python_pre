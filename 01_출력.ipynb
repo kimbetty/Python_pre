{
  "nbformat": 4,
  "nbformat_minor": 0,
  "metadata": {
    "colab": {
      "name": "01_출력",
      "provenance": [],
      "collapsed_sections": [],
      "authorship_tag": "ABX9TyMrjTcN0QhJfPieFEIvNYX9",
      "include_colab_link": true
    },
    "kernelspec": {
      "name": "python3",
      "display_name": "Python 3"
    }
  },
  "cells": [
    {
      "cell_type": "markdown",
      "metadata": {
        "id": "view-in-github",
        "colab_type": "text"
      },
      "source": [
        "<a href=\"https://colab.research.google.com/github/kimbetty/Python_pre/blob/dream/01_%EC%B6%9C%EB%A0%A5.ipynb\" target=\"_parent\"><img src=\"https://colab.research.google.com/assets/colab-badge.svg\" alt=\"Open In Colab\"/></a>"
      ]
    },
    {
      "cell_type": "markdown",
      "metadata": {
        "id": "cGdwkDhUz-Qm",
        "colab_type": "text"
      },
      "source": [
        "# **[학습목표]**\n",
        "---\n",
        "1. Python 개발환경을 설정하고 설명할 수 있다.  \n",
        "2. 출력문과 데이터 타입을 설명할 수 있다.\n",
        "\n",
        "---"
      ]
    },
    {
      "cell_type": "markdown",
      "metadata": {
        "id": "1BnzWeBkUfau",
        "colab_type": "text"
      },
      "source": [
        "1.1. 출력"
      ]
    },
    {
      "cell_type": "code",
      "metadata": {
        "id": "u-ojp_7MTVdX",
        "colab_type": "code",
        "outputId": "d26e3838-2ddc-4a3a-a7de-01f3b94d7c03",
        "colab": {
          "base_uri": "https://localhost:8080/",
          "height": 34
        }
      },
      "source": [
        "a = 1\n",
        "b = 3.5\n",
        "a"
      ],
      "execution_count": 2,
      "outputs": [
        {
          "output_type": "execute_result",
          "data": {
            "text/plain": [
              "1"
            ]
          },
          "metadata": {
            "tags": []
          },
          "execution_count": 2
        }
      ]
    },
    {
      "cell_type": "markdown",
      "metadata": {
        "id": "sYiSI5FDFpKP",
        "colab_type": "text"
      },
      "source": [
        "**1.1.REPL**\n",
        "\n",
        "Real Eval Loop\n",
        "\n",
        "* 콘솔화면에서 Python구문을 입력하면\n",
        "* 바로 결과를 반환하고\n",
        "* 다시 입력할 수 있는 도구\n",
        "* 즉, print 문을 사용안해도 결과를 알 수 있다.\n",
        "* 단, 마지막 명령어만"
      ]
    },
    {
      "cell_type": "code",
      "metadata": {
        "id": "sxCLPlavT3id",
        "colab_type": "code",
        "outputId": "d54c221f-82f1-426d-b9bc-ba529458e561",
        "colab": {
          "base_uri": "https://localhost:8080/",
          "height": 139
        }
      },
      "source": [
        "print(a, b)\n",
        "print(3, 4)\n",
        "print(a+b)\n",
        "print('Hello Python\\n' *3)"
      ],
      "execution_count": 3,
      "outputs": [
        {
          "output_type": "stream",
          "text": [
            "1 3.5\n",
            "3 4\n",
            "4.5\n",
            "Hello Python\n",
            "Hello Python\n",
            "Hello Python\n",
            "\n"
          ],
          "name": "stdout"
        }
      ]
    },
    {
      "cell_type": "markdown",
      "metadata": {
        "id": "ldttJHeUUt2P",
        "colab_type": "text"
      },
      "source": [
        "2.1. 데이터 타입 알아보기"
      ]
    },
    {
      "cell_type": "code",
      "metadata": {
        "id": "JkboWV8AUARn",
        "colab_type": "code",
        "colab": {}
      },
      "source": [
        "c=type(a)\n",
        "d=type(b)"
      ],
      "execution_count": 0,
      "outputs": []
    },
    {
      "cell_type": "code",
      "metadata": {
        "id": "666XmtKoU6k0",
        "colab_type": "code",
        "outputId": "f5f072ad-c11b-4f29-da6e-4146cf764f3a",
        "colab": {
          "base_uri": "https://localhost:8080/",
          "height": 35
        }
      },
      "source": [
        "print(c, d)"
      ],
      "execution_count": 0,
      "outputs": [
        {
          "output_type": "stream",
          "text": [
            "<class 'int'> <class 'float'>\n"
          ],
          "name": "stdout"
        }
      ]
    },
    {
      "cell_type": "code",
      "metadata": {
        "id": "vSP9rAZ0VKkh",
        "colab_type": "code",
        "outputId": "d127ed62-a48e-42fa-a2d1-d3541c199cf5",
        "colab": {
          "base_uri": "https://localhost:8080/",
          "height": 283
        }
      },
      "source": [
        "a ='\\n\\nabcde'\n",
        "b = '전산과 '\n",
        "print(a * 3)\n",
        "print(b * 3)\n",
        "print(a + b)\n",
        "print(a, b)\n",
        "print(type(a))"
      ],
      "execution_count": 0,
      "outputs": [
        {
          "output_type": "stream",
          "text": [
            "\n",
            "\n",
            "abcde\n",
            "\n",
            "abcde\n",
            "\n",
            "abcde\n",
            "전산과 전산과 전산과 \n",
            "\n",
            "\n",
            "abcde전산과 \n",
            "\n",
            "\n",
            "abcde 전산과 \n",
            "<class 'str'>\n"
          ],
          "name": "stdout"
        }
      ]
    },
    {
      "cell_type": "code",
      "metadata": {
        "id": "55aq9poNgsl2",
        "colab_type": "code",
        "outputId": "0585158b-352d-4867-ac18-f7657d131bd5",
        "colab": {
          "base_uri": "https://localhost:8080/",
          "height": 35
        }
      },
      "source": [
        "T= a.endswith('de')\n",
        "T"
      ],
      "execution_count": 0,
      "outputs": [
        {
          "output_type": "execute_result",
          "data": {
            "text/plain": [
              "'abcde'"
            ]
          },
          "metadata": {
            "tags": []
          },
          "execution_count": 17
        }
      ]
    },
    {
      "cell_type": "code",
      "metadata": {
        "id": "vDg9_dOCha5W",
        "colab_type": "code",
        "outputId": "563e7be8-8cff-45d3-eaed-5e8138814421",
        "colab": {
          "base_uri": "https://localhost:8080/",
          "height": 35
        }
      },
      "source": [
        "F=a.startswith('\\n')\n",
        "F"
      ],
      "execution_count": 0,
      "outputs": [
        {
          "output_type": "execute_result",
          "data": {
            "text/plain": [
              "True"
            ]
          },
          "metadata": {
            "tags": []
          },
          "execution_count": 7
        }
      ]
    },
    {
      "cell_type": "code",
      "metadata": {
        "id": "y8y8mfLoiDce",
        "colab_type": "code",
        "outputId": "41c3c808-ba95-4f21-e56e-9d6148ea972e",
        "colab": {
          "base_uri": "https://localhost:8080/",
          "height": 123
        }
      },
      "source": [
        "a ='\\n\\nabcde\\n\\n'\n",
        "b=123\n",
        "print(a)\n",
        "print(b)"
      ],
      "execution_count": 0,
      "outputs": [
        {
          "output_type": "stream",
          "text": [
            "\n",
            "\n",
            "abcde\n",
            "\n",
            "\n",
            "123\n"
          ],
          "name": "stdout"
        }
      ]
    },
    {
      "cell_type": "code",
      "metadata": {
        "id": "HQxDgnR4hq-X",
        "colab_type": "code",
        "outputId": "65769dbf-d496-4118-e08c-1f6be16a523f",
        "colab": {
          "base_uri": "https://localhost:8080/",
          "height": 52
        }
      },
      "source": [
        "p=a.strip()\n",
        "print(p)\n",
        "print(b)"
      ],
      "execution_count": 0,
      "outputs": [
        {
          "output_type": "stream",
          "text": [
            "abcde\n",
            "123\n"
          ],
          "name": "stdout"
        }
      ]
    },
    {
      "cell_type": "markdown",
      "metadata": {
        "id": "DnHX3tz-VsFW",
        "colab_type": "text"
      },
      "source": [
        "[연습문제]4칙 연산 출력하기\n",
        "\n",
        "---\n",
        "\n",
        "```\n",
        "# 다음과 같이 출력해보세요\n",
        "a = 10 , b = 2\n",
        "a + b = 12.5\n",
        "a - b = ...\n",
        "a * b = \n",
        "a ** b = \n",
        "a / b = \n",
        "a // b = \n",
        "a % b = \n",
        "```"
      ]
    },
    {
      "cell_type": "code",
      "metadata": {
        "id": "-ol_7LTzWjCh",
        "colab_type": "code",
        "outputId": "faa6217f-f600-4271-9d76-22ed62b04d82",
        "colab": {
          "base_uri": "https://localhost:8080/",
          "height": 52
        }
      },
      "source": [
        "a = 10\n",
        "b = 2\n",
        "print('a = ', a, ',', ' b =', b)\n",
        "print('a + b = ', a+b)"
      ],
      "execution_count": 0,
      "outputs": [
        {
          "output_type": "stream",
          "text": [
            "a =  10 ,  b = 2\n",
            "a + b =  12\n"
          ],
          "name": "stdout"
        }
      ]
    },
    {
      "cell_type": "code",
      "metadata": {
        "id": "Mpj6Ep91jnlQ",
        "colab_type": "code",
        "outputId": "66d16a34-4d1f-4c61-8e1c-ec5c382c6b50",
        "colab": {
          "base_uri": "https://localhost:8080/",
          "height": 35
        }
      },
      "source": [
        "# os\n",
        "!cat /etc/issue.net"
      ],
      "execution_count": 0,
      "outputs": [
        {
          "output_type": "stream",
          "text": [
            "Ubuntu 18.04.3 LTS\n"
          ],
          "name": "stdout"
        }
      ]
    },
    {
      "cell_type": "code",
      "metadata": {
        "id": "ucxYnhIsww7o",
        "colab_type": "code",
        "outputId": "cbe9296d-0d47-485a-ad77-197b0fbc07ec",
        "colab": {
          "base_uri": "https://localhost:8080/",
          "height": 35
        }
      },
      "source": [
        "!python --version"
      ],
      "execution_count": 0,
      "outputs": [
        {
          "output_type": "stream",
          "text": [
            "Python 3.6.9\n"
          ],
          "name": "stdout"
        }
      ]
    }
  ]
}